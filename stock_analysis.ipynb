{
 "cells": [
  {
   "cell_type": "code",
   "execution_count": 52,
   "metadata": {},
   "outputs": [],
   "source": [
    "from pandas_datareader import data\n",
    "import datetime\n",
    "from bokeh.plotting import figure, show, output_file\n",
    "from bokeh.embed import components\n",
    "from bokeh.resources import CDN"
   ]
  },
  {
   "cell_type": "code",
   "execution_count": 53,
   "metadata": {},
   "outputs": [],
   "source": [
    "start = datetime.datetime(2020, 3, 1)\n",
    "end = datetime.datetime(2020, 5, 27)\n",
    "\n",
    "apple = data.DataReader('AAPL', data_source='yahoo', start=start, end=end)\n",
    "\n",
    "# prepare useful data first\n",
    "def status(o, c):\n",
    "    return 'red' if c < o else 'green' \n",
    "    \n",
    "apple['Status'] = [status(o, c) for o, c in zip(apple.Open, apple.Close)]\n",
    "apple['PriceAvg'] = (apple.Open + apple.Close) / 2\n",
    "apple['Spread'] = abs(apple.Close - apple.Open)"
   ]
  },
  {
   "cell_type": "code",
   "execution_count": 54,
   "metadata": {},
   "outputs": [],
   "source": [
    "# 12 hours candle width\n",
    "hours_12_millis = 12 * 60 * 60 * 1000 \n",
    "\n",
    "fig = figure(x_axis_type='datetime', width=1000, height=300, sizing_mode='scale_width')\n",
    "fig.title.text = 'Candlestick chart'\n",
    "fig.grid.grid_line_alpha = 0.7\n",
    "\n",
    "# draw max and min lines on the back layer\n",
    "fig.segment(apple.index, apple.High, apple.index, apple.Low, color='black')\n",
    "\n",
    "# draw green candles then\n",
    "fig.rect(apple.index[apple.Status == 'green'], \n",
    "         apple.PriceAvg[apple.Status == 'green'], \n",
    "         hours_12_millis, \n",
    "         apple.Spread[apple.Status == 'green'], \n",
    "         fill_color='green', \n",
    "         line_color='black')\n",
    "\n",
    "# draw red candles finally\n",
    "red_candles = apple.index[apple.Status == 'red']\n",
    "fig.rect(red_candles, \n",
    "         apple.PriceAvg[apple.Status == 'red'], \n",
    "         hours_12_millis, \n",
    "         apple.Spread[apple.Status == 'red'],\n",
    "         fill_color='red', \n",
    "         line_color='black')\n",
    "\n",
    "output_file('apple_price.html')\n",
    "show(fig)\n"
   ]
  },
  {
   "cell_type": "code",
   "execution_count": 61,
   "metadata": {},
   "outputs": [
    {
     "data": {
      "text/plain": [
       "['https://cdn.bokeh.org/bokeh/release/bokeh-2.0.2.min.js',\n",
       " 'https://cdn.bokeh.org/bokeh/release/bokeh-widgets-2.0.2.min.js',\n",
       " 'https://cdn.bokeh.org/bokeh/release/bokeh-tables-2.0.2.min.js',\n",
       " 'https://cdn.bokeh.org/bokeh/release/bokeh-gl-2.0.2.min.js']"
      ]
     },
     "execution_count": 61,
     "metadata": {},
     "output_type": "execute_result"
    }
   ],
   "source": [
    "script1, div1 = components(fig)\n",
    "cdn_js = CDN.js_files\n",
    "cdn_css = CDN.css_files\n",
    "CDN.js_files"
   ]
  },
  {
   "cell_type": "code",
   "execution_count": 42,
   "metadata": {},
   "outputs": [
    {
     "data": {
      "text/plain": [
       "'\\n<div class=\"bk-root\" id=\"8cb00e11-d167-4118-9f0b-920964faffb2\" data-root-id=\"5275\"></div>'"
      ]
     },
     "execution_count": 42,
     "metadata": {},
     "output_type": "execute_result"
    }
   ],
   "source": []
  }
 ],
 "metadata": {
  "kernelspec": {
   "display_name": "Python 3.8.2 64-bit ('3.8.2': pyenv)",
   "language": "python",
   "name": "python38264bit382pyenv0254023308ca44e7af18f11222c635bd"
  },
  "language_info": {
   "codemirror_mode": {
    "name": "ipython",
    "version": 3
   },
   "file_extension": ".py",
   "mimetype": "text/x-python",
   "name": "python",
   "nbconvert_exporter": "python",
   "pygments_lexer": "ipython3",
   "version": "3.8.2"
  }
 },
 "nbformat": 4,
 "nbformat_minor": 4
}
